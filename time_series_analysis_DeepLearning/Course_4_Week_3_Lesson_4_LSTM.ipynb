{
 "cells": [
  {
   "cell_type": "markdown",
   "metadata": {
    "colab_type": "text",
    "id": "view-in-github"
   },
   "source": [
    "<a href=\"https://colab.research.google.com/github/MoRebaie/Sequences-Time-Series-Prediction-in-Tensorflow/blob/master/Course_4_Week_3_Lesson_4_LSTM.ipynb\" target=\"_parent\"><img src=\"https://colab.research.google.com/assets/colab-badge.svg\" alt=\"Open In Colab\"/></a>"
   ]
  },
  {
   "cell_type": "code",
   "execution_count": 1,
   "metadata": {
    "colab": {
     "base_uri": "https://localhost:8080/",
     "height": 34
    },
    "colab_type": "code",
    "id": "BOjujz601HcS",
    "outputId": "d7a2c8c2-eb4c-4913-f846-622c6350370b"
   },
   "outputs": [
    {
     "name": "stdout",
     "output_type": "stream",
     "text": [
      "2.0.0\n"
     ]
    }
   ],
   "source": [
    "import tensorflow as tf\n",
    "import numpy as np\n",
    "import matplotlib.pyplot as plt\n",
    "print(tf.__version__)"
   ]
  },
  {
   "cell_type": "code",
   "execution_count": 2,
   "metadata": {
    "colab": {},
    "colab_type": "code",
    "id": "Zswl7jRtGzkk"
   },
   "outputs": [],
   "source": [
    "def plot_series(time, series, format=\"-\", start=0, end=None):\n",
    "    plt.plot(time[start:end], series[start:end], format)\n",
    "    plt.xlabel(\"Time\")\n",
    "    plt.ylabel(\"Value\")\n",
    "    plt.grid(True)\n",
    "\n",
    "def trend(time, slope=0):\n",
    "    return slope * time\n",
    "\n",
    "def seasonal_pattern(season_time):\n",
    "    \"\"\"Just an arbitrary pattern, you can change it if you wish\"\"\"\n",
    "    return np.where(season_time < 0.4,\n",
    "                    np.cos(season_time * 2 * np.pi),\n",
    "                    1 / np.exp(3 * season_time))\n",
    "\n",
    "def seasonality(time, period, amplitude=1, phase=0):\n",
    "    \"\"\"Repeats the same pattern at each period\"\"\"\n",
    "    season_time = ((time + phase) % period) / period\n",
    "    return amplitude * seasonal_pattern(season_time)\n",
    "\n",
    "def noise(time, noise_level=1, seed=None):\n",
    "    rnd = np.random.RandomState(seed)\n",
    "    return rnd.randn(len(time)) * noise_level\n",
    "\n",
    "time = np.arange(4 * 365 + 1, dtype=\"float32\")\n",
    "baseline = 10\n",
    "series = trend(time, 0.1)  \n",
    "baseline = 10\n",
    "amplitude = 40\n",
    "slope = 0.05\n",
    "noise_level = 5\n",
    "\n",
    "# Create the series\n",
    "series = baseline + trend(time, slope) + seasonality(time, period=365, amplitude=amplitude)\n",
    "# Update with noise\n",
    "series += noise(time, noise_level, seed=42)\n",
    "\n",
    "split_time = 1000\n",
    "time_train = time[:split_time]\n",
    "x_train = series[:split_time]\n",
    "time_valid = time[split_time:]\n",
    "x_valid = series[split_time:]\n",
    "\n",
    "window_size = 20\n",
    "batch_size = 32\n",
    "shuffle_buffer_size = 1000"
   ]
  },
  {
   "cell_type": "code",
   "execution_count": 3,
   "metadata": {
    "colab": {},
    "colab_type": "code",
    "id": "4sTTIOCbyShY"
   },
   "outputs": [],
   "source": [
    "def windowed_dataset(series, window_size, batch_size, shuffle_buffer):\n",
    "  dataset = tf.data.Dataset.from_tensor_slices(series)\n",
    "  dataset = dataset.window(window_size + 1, shift=1, drop_remainder=True)\n",
    "  dataset = dataset.flat_map(lambda window: window.batch(window_size + 1))\n",
    "  dataset = dataset.shuffle(shuffle_buffer).map(lambda window: (window[:-1], window[-1]))\n",
    "  dataset = dataset.batch(batch_size).prefetch(1)\n",
    "  return dataset"
   ]
  },
  {
   "cell_type": "code",
   "execution_count": 4,
   "metadata": {
    "colab": {
     "base_uri": "https://localhost:8080/",
     "height": 1000
    },
    "colab_type": "code",
    "id": "A1Hl39rklkLm",
    "outputId": "1a16cc8a-3eff-46ae-c7e6-818216f7530f"
   },
   "outputs": [
    {
     "name": "stdout",
     "output_type": "stream",
     "text": [
      "Epoch 1/100\n",
      "31/31 [==============================] - 6s 200ms/step - loss: 21.4949 - mae: 22.0115\n",
      "Epoch 2/100\n",
      "31/31 [==============================] - 1s 26ms/step - loss: 21.2168 - mae: 21.6440\n",
      "Epoch 3/100\n",
      "31/31 [==============================] - 1s 25ms/step - loss: 20.7111 - mae: 21.2278\n",
      "Epoch 4/100\n",
      "31/31 [==============================] - 1s 25ms/step - loss: 20.1562 - mae: 20.7739\n",
      "Epoch 5/100\n",
      "31/31 [==============================] - 1s 26ms/step - loss: 19.7903 - mae: 20.2843\n",
      "Epoch 6/100\n",
      "31/31 [==============================] - 1s 26ms/step - loss: 19.2615 - mae: 19.6776\n",
      "Epoch 7/100\n",
      "31/31 [==============================] - 1s 25ms/step - loss: 18.2681 - mae: 18.7308\n",
      "Epoch 8/100\n",
      "31/31 [==============================] - 1s 26ms/step - loss: 17.4057 - mae: 17.9757\n",
      "Epoch 9/100\n",
      "31/31 [==============================] - 1s 26ms/step - loss: 17.2263 - mae: 17.6581\n",
      "Epoch 10/100\n",
      "31/31 [==============================] - 1s 25ms/step - loss: 16.8978 - mae: 17.3457\n",
      "Epoch 11/100\n",
      "31/31 [==============================] - 1s 26ms/step - loss: 16.6165 - mae: 17.0459\n",
      "Epoch 12/100\n",
      "31/31 [==============================] - 1s 25ms/step - loss: 16.2132 - mae: 16.7529\n",
      "Epoch 13/100\n",
      "31/31 [==============================] - 1s 27ms/step - loss: 15.9664 - mae: 16.4573\n",
      "Epoch 14/100\n",
      "31/31 [==============================] - 1s 29ms/step - loss: 15.6962 - mae: 16.1587\n",
      "Epoch 15/100\n",
      "31/31 [==============================] - 1s 25ms/step - loss: 15.3739 - mae: 15.8571\n",
      "Epoch 16/100\n",
      "31/31 [==============================] - 1s 25ms/step - loss: 15.1133 - mae: 15.5765\n",
      "Epoch 17/100\n",
      "31/31 [==============================] - 1s 25ms/step - loss: 14.7837 - mae: 15.2950\n",
      "Epoch 18/100\n",
      "31/31 [==============================] - 1s 25ms/step - loss: 14.4760 - mae: 15.0164\n",
      "Epoch 19/100\n",
      "31/31 [==============================] - 1s 25ms/step - loss: 14.3366 - mae: 14.7612\n",
      "Epoch 20/100\n",
      "31/31 [==============================] - 1s 27ms/step - loss: 14.0852 - mae: 14.5354\n",
      "Epoch 21/100\n",
      "31/31 [==============================] - 1s 28ms/step - loss: 13.8134 - mae: 14.3081\n",
      "Epoch 22/100\n",
      "31/31 [==============================] - 1s 24ms/step - loss: 13.6393 - mae: 14.1062\n",
      "Epoch 23/100\n",
      "31/31 [==============================] - 1s 25ms/step - loss: 13.3826 - mae: 13.8858\n",
      "Epoch 24/100\n",
      "31/31 [==============================] - 1s 25ms/step - loss: 13.1954 - mae: 13.7037\n",
      "Epoch 25/100\n",
      "31/31 [==============================] - 1s 25ms/step - loss: 13.0163 - mae: 13.4526\n",
      "Epoch 26/100\n",
      "31/31 [==============================] - 1s 25ms/step - loss: 12.7585 - mae: 13.2327\n",
      "Epoch 27/100\n",
      "31/31 [==============================] - 1s 25ms/step - loss: 12.5284 - mae: 12.9716\n",
      "Epoch 28/100\n",
      "31/31 [==============================] - 1s 25ms/step - loss: 12.2087 - mae: 12.7095\n",
      "Epoch 29/100\n",
      "31/31 [==============================] - 1s 24ms/step - loss: 12.3941 - mae: 12.8460\n",
      "Epoch 30/100\n",
      "31/31 [==============================] - 1s 24ms/step - loss: 11.8443 - mae: 12.3121\n",
      "Epoch 31/100\n",
      "31/31 [==============================] - 1s 24ms/step - loss: 11.3303 - mae: 11.8148\n",
      "Epoch 32/100\n",
      "31/31 [==============================] - 1s 25ms/step - loss: 10.9481 - mae: 11.4830\n",
      "Epoch 33/100\n",
      "31/31 [==============================] - 1s 25ms/step - loss: 10.6266 - mae: 11.1361\n",
      "Epoch 34/100\n",
      "31/31 [==============================] - 1s 27ms/step - loss: 10.7816 - mae: 11.3007\n",
      "Epoch 35/100\n",
      "31/31 [==============================] - 1s 25ms/step - loss: 10.9719 - mae: 11.4607\n",
      "Epoch 36/100\n",
      "31/31 [==============================] - 1s 26ms/step - loss: 10.4490 - mae: 10.9636\n",
      "Epoch 37/100\n",
      "31/31 [==============================] - 1s 25ms/step - loss: 9.9899 - mae: 10.4892\n",
      "Epoch 38/100\n",
      "31/31 [==============================] - 1s 28ms/step - loss: 9.5782 - mae: 10.0283\n",
      "Epoch 39/100\n",
      "31/31 [==============================] - 1s 25ms/step - loss: 9.0664 - mae: 9.5461\n",
      "Epoch 40/100\n",
      "31/31 [==============================] - 1s 25ms/step - loss: 8.6547 - mae: 9.1358\n",
      "Epoch 41/100\n",
      "31/31 [==============================] - 1s 26ms/step - loss: 8.2887 - mae: 8.7356\n",
      "Epoch 42/100\n",
      "31/31 [==============================] - 1s 26ms/step - loss: 7.9123 - mae: 8.4081\n",
      "Epoch 43/100\n",
      "31/31 [==============================] - 1s 27ms/step - loss: 7.6793 - mae: 8.1137\n",
      "Epoch 44/100\n",
      "31/31 [==============================] - 1s 29ms/step - loss: 7.3547 - mae: 7.8033\n",
      "Epoch 45/100\n",
      "31/31 [==============================] - 1s 26ms/step - loss: 7.1047 - mae: 7.5770\n",
      "Epoch 46/100\n",
      "31/31 [==============================] - 1s 26ms/step - loss: 6.9459 - mae: 7.3933\n",
      "Epoch 47/100\n",
      "31/31 [==============================] - 1s 26ms/step - loss: 6.5524 - mae: 7.0771\n",
      "Epoch 48/100\n",
      "31/31 [==============================] - 1s 27ms/step - loss: 6.4136 - mae: 6.9074\n",
      "Epoch 49/100\n",
      "31/31 [==============================] - 1s 26ms/step - loss: 6.3931 - mae: 6.8757\n",
      "Epoch 50/100\n",
      "31/31 [==============================] - 1s 26ms/step - loss: 6.0520 - mae: 6.5164\n",
      "Epoch 51/100\n",
      "31/31 [==============================] - 1s 26ms/step - loss: 5.8715 - mae: 6.3634\n",
      "Epoch 52/100\n",
      "31/31 [==============================] - 1s 26ms/step - loss: 5.7791 - mae: 6.2421\n",
      "Epoch 53/100\n",
      "31/31 [==============================] - 1s 26ms/step - loss: 5.6699 - mae: 6.1419\n",
      "Epoch 54/100\n",
      "31/31 [==============================] - 1s 26ms/step - loss: 5.5072 - mae: 5.9468\n",
      "Epoch 55/100\n",
      "31/31 [==============================] - 1s 26ms/step - loss: 5.4385 - mae: 5.9006\n",
      "Epoch 56/100\n",
      "31/31 [==============================] - 1s 26ms/step - loss: 5.2939 - mae: 5.7471\n",
      "Epoch 57/100\n",
      "31/31 [==============================] - 1s 26ms/step - loss: 5.3199 - mae: 5.7881\n",
      "Epoch 58/100\n",
      "31/31 [==============================] - 1s 28ms/step - loss: 5.1544 - mae: 5.6591\n",
      "Epoch 59/100\n",
      "31/31 [==============================] - 1s 26ms/step - loss: 5.3091 - mae: 5.7545\n",
      "Epoch 60/100\n",
      "31/31 [==============================] - 1s 26ms/step - loss: 5.0288 - mae: 5.5567\n",
      "Epoch 61/100\n",
      "31/31 [==============================] - 1s 26ms/step - loss: 4.9551 - mae: 5.4250\n",
      "Epoch 62/100\n",
      "31/31 [==============================] - 1s 28ms/step - loss: 5.1300 - mae: 5.5808\n",
      "Epoch 63/100\n",
      "31/31 [==============================] - 1s 28ms/step - loss: 5.2117 - mae: 5.6629\n",
      "Epoch 64/100\n",
      "31/31 [==============================] - 1s 26ms/step - loss: 5.0574 - mae: 5.5312\n",
      "Epoch 65/100\n",
      "31/31 [==============================] - 1s 28ms/step - loss: 4.9260 - mae: 5.3900\n",
      "Epoch 66/100\n",
      "31/31 [==============================] - 1s 26ms/step - loss: 5.3047 - mae: 5.7638\n",
      "Epoch 67/100\n",
      "31/31 [==============================] - 1s 27ms/step - loss: 5.2755 - mae: 5.7446\n",
      "Epoch 68/100\n",
      "31/31 [==============================] - 1s 28ms/step - loss: 5.3003 - mae: 5.7234\n",
      "Epoch 69/100\n",
      "31/31 [==============================] - 1s 26ms/step - loss: 5.3745 - mae: 5.8346\n",
      "Epoch 70/100\n",
      "31/31 [==============================] - 1s 26ms/step - loss: 6.1351 - mae: 6.6384\n",
      "Epoch 71/100\n",
      "31/31 [==============================] - 1s 27ms/step - loss: 4.9123 - mae: 5.4137\n",
      "Epoch 72/100\n",
      "31/31 [==============================] - 1s 30ms/step - loss: 5.6096 - mae: 6.0632\n",
      "Epoch 73/100\n",
      "31/31 [==============================] - 1s 28ms/step - loss: 5.3409 - mae: 5.8207\n",
      "Epoch 74/100\n",
      "31/31 [==============================] - 1s 26ms/step - loss: 6.6808 - mae: 7.1935\n",
      "Epoch 75/100\n",
      "31/31 [==============================] - 1s 26ms/step - loss: 5.6189 - mae: 6.0801\n",
      "Epoch 76/100\n",
      "31/31 [==============================] - 1s 25ms/step - loss: 5.3056 - mae: 5.7602\n",
      "Epoch 77/100\n",
      "31/31 [==============================] - 1s 26ms/step - loss: 4.9481 - mae: 5.4574\n",
      "Epoch 78/100\n",
      "31/31 [==============================] - 1s 26ms/step - loss: 5.9902 - mae: 6.4186\n",
      "Epoch 79/100\n",
      "31/31 [==============================] - 1s 27ms/step - loss: 6.0666 - mae: 6.6142\n",
      "Epoch 80/100\n",
      "31/31 [==============================] - 1s 27ms/step - loss: 5.6907 - mae: 6.1672\n",
      "Epoch 81/100\n",
      "31/31 [==============================] - 1s 26ms/step - loss: 5.4342 - mae: 5.8921\n",
      "Epoch 82/100\n",
      "31/31 [==============================] - 1s 26ms/step - loss: 8.0096 - mae: 8.4497\n",
      "Epoch 83/100\n",
      "31/31 [==============================] - 1s 26ms/step - loss: 6.6171 - mae: 7.1310\n",
      "Epoch 84/100\n",
      "31/31 [==============================] - 1s 25ms/step - loss: 5.8576 - mae: 6.3533\n",
      "Epoch 85/100\n"
     ]
    },
    {
     "name": "stdout",
     "output_type": "stream",
     "text": [
      "31/31 [==============================] - 1s 26ms/step - loss: 6.8832 - mae: 7.3556\n",
      "Epoch 86/100\n",
      "31/31 [==============================] - 1s 26ms/step - loss: 9.6265 - mae: 10.0337\n",
      "Epoch 87/100\n",
      "31/31 [==============================] - 1s 27ms/step - loss: 11.2999 - mae: 11.7802\n",
      "Epoch 88/100\n",
      "31/31 [==============================] - 1s 27ms/step - loss: 7.7035 - mae: 8.1803\n",
      "Epoch 89/100\n",
      "31/31 [==============================] - 1s 28ms/step - loss: 8.2638 - mae: 8.7338\n",
      "Epoch 90/100\n",
      "31/31 [==============================] - 1s 28ms/step - loss: 6.4683 - mae: 6.9543\n",
      "Epoch 91/100\n",
      "31/31 [==============================] - 1s 28ms/step - loss: 6.4854 - mae: 7.0035\n",
      "Epoch 92/100\n",
      "31/31 [==============================] - 1s 28ms/step - loss: 8.7086 - mae: 9.2193\n",
      "Epoch 93/100\n",
      "31/31 [==============================] - 1s 29ms/step - loss: 6.4849 - mae: 6.9791\n",
      "Epoch 94/100\n",
      "31/31 [==============================] - 1s 29ms/step - loss: 7.4662 - mae: 7.8895\n",
      "Epoch 95/100\n",
      "31/31 [==============================] - 1s 29ms/step - loss: 9.3189 - mae: 9.8265\n",
      "Epoch 96/100\n",
      "31/31 [==============================] - 1s 34ms/step - loss: 7.8623 - mae: 8.3876\n",
      "Epoch 97/100\n",
      "31/31 [==============================] - 1s 33ms/step - loss: 7.8833 - mae: 8.3950\n",
      "Epoch 98/100\n",
      "31/31 [==============================] - 1s 36ms/step - loss: 12.2002 - mae: 12.7167\n",
      "Epoch 99/100\n",
      "31/31 [==============================] - 1s 39ms/step - loss: 11.1007 - mae: 11.5782\n",
      "Epoch 100/100\n",
      "31/31 [==============================] - 1s 38ms/step - loss: 14.9834 - mae: 15.5686\n"
     ]
    }
   ],
   "source": [
    "tf.keras.backend.clear_session()\n",
    "tf.random.set_seed(51)\n",
    "np.random.seed(51)\n",
    "\n",
    "tf.keras.backend.clear_session()\n",
    "dataset = windowed_dataset(x_train, window_size, batch_size, shuffle_buffer_size)\n",
    "\n",
    "model = tf.keras.models.Sequential([\n",
    "  tf.keras.layers.Lambda(lambda x: tf.expand_dims(x, axis=-1),\n",
    "                      input_shape=[None]),\n",
    "    tf.keras.layers.Bidirectional(tf.keras.layers.LSTM(32, return_sequences=True)),\n",
    "  tf.keras.layers.Bidirectional(tf.keras.layers.LSTM(32)),\n",
    "  tf.keras.layers.Dense(1),\n",
    "  tf.keras.layers.Lambda(lambda x: x * 100.0)\n",
    "])\n",
    "\n",
    "lr_schedule = tf.keras.callbacks.LearningRateScheduler(\n",
    "    lambda epoch: 1e-8 * 10**(epoch / 20))\n",
    "optimizer = tf.keras.optimizers.SGD(lr=1e-8, momentum=0.9)\n",
    "model.compile(loss=tf.keras.losses.Huber(),\n",
    "              optimizer=optimizer,\n",
    "              metrics=[\"mae\"])\n",
    "history = model.fit(dataset, epochs=100, callbacks=[lr_schedule])"
   ]
  },
  {
   "cell_type": "code",
   "execution_count": 5,
   "metadata": {
    "colab": {
     "base_uri": "https://localhost:8080/",
     "height": 290
    },
    "colab_type": "code",
    "id": "AkBsrsXMzoWR",
    "outputId": "3c0b6e58-4f16-498f-be6b-9c8bc760bc2d"
   },
   "outputs": [
    {
     "data": {
      "text/plain": [
       "[1e-08, 0.0001, 0, 30]"
      ]
     },
     "execution_count": 5,
     "metadata": {},
     "output_type": "execute_result"
    },
    {
     "data": {
      "image/png": "[encoded data removed]",
      "text/plain": [
       "<Figure size 432x288 with 1 Axes>"
      ]
     },
     "metadata": {
      "needs_background": "light"
     },
     "output_type": "display_data"
    }
   ],
   "source": [
    "plt.semilogx(history.history[\"lr\"], history.history[\"loss\"])\n",
    "plt.axis([1e-8, 1e-4, 0, 30])"
   ]
  },
  {
   "cell_type": "code",
   "execution_count": 6,
   "metadata": {
    "colab": {},
    "colab_type": "code",
    "id": "4uh-97bpLZCA"
   },
   "outputs": [],
   "source": [
    "tf.keras.backend.clear_session()\n",
    "tf.random.set_seed(51)\n",
    "np.random.seed(51)\n",
    "\n",
    "tf.keras.backend.clear_session()\n",
    "dataset = windowed_dataset(x_train, window_size, batch_size, shuffle_buffer_size)\n",
    "\n",
    "model = tf.keras.models.Sequential([\n",
    "  tf.keras.layers.Lambda(lambda x: tf.expand_dims(x, axis=-1),\n",
    "                      input_shape=[None]),\n",
    "   tf.keras.layers.Bidirectional(tf.keras.layers.LSTM(32, return_sequences=True)),\n",
    "  tf.keras.layers.Bidirectional(tf.keras.layers.LSTM(32)),\n",
    "  tf.keras.layers.Dense(1),\n",
    "  tf.keras.layers.Lambda(lambda x: x * 100.0)\n",
    "])\n",
    "\n",
    "\n",
    "model.compile(loss=\"mse\", optimizer=tf.keras.optimizers.SGD(lr=1e-5, momentum=0.9),metrics=[\"mae\"])\n",
    "history = model.fit(dataset,epochs=500,verbose=0)"
   ]
  },
  {
   "cell_type": "code",
   "execution_count": 7,
   "metadata": {
    "colab": {
     "base_uri": "https://localhost:8080/",
     "height": 392
    },
    "colab_type": "code",
    "id": "icGDaND7z0ne",
    "outputId": "fad4194c-7835-4c3c-e8cb-ab6fe6dce3b2"
   },
   "outputs": [
    {
     "data": {
      "image/png": "[encoded data removed]",
      "text/plain": [
       "<Figure size 720x432 with 1 Axes>"
      ]
     },
     "metadata": {
      "needs_background": "light"
     },
     "output_type": "display_data"
    }
   ],
   "source": [
    "forecast = []\n",
    "results = []\n",
    "for time in range(len(series) - window_size):\n",
    "  forecast.append(model.predict(series[time:time + window_size][np.newaxis]))\n",
    "\n",
    "forecast = forecast[split_time-window_size:]\n",
    "results = np.array(forecast)[:, 0, 0]\n",
    "\n",
    "\n",
    "plt.figure(figsize=(10, 6))\n",
    "\n",
    "plot_series(time_valid, x_valid)\n",
    "plot_series(time_valid, results)"
   ]
  },
  {
   "cell_type": "code",
   "execution_count": 8,
   "metadata": {
    "colab": {
     "base_uri": "https://localhost:8080/",
     "height": 34
    },
    "colab_type": "code",
    "id": "KfPeqI7rz4LD",
    "outputId": "80908e3e-31cc-4ae0-ab5a-ea7a676c8da2"
   },
   "outputs": [
    {
     "data": {
      "text/plain": [
       "6.582413"
      ]
     },
     "execution_count": 8,
     "metadata": {},
     "output_type": "execute_result"
    }
   ],
   "source": [
    "tf.keras.metrics.mean_absolute_error(x_valid, results).numpy()"
   ]
  },
  {
   "cell_type": "code",
   "execution_count": 9,
   "metadata": {
    "colab": {
     "base_uri": "https://localhost:8080/",
     "height": 607
    },
    "colab_type": "code",
    "id": "JUsdZB_tzDLe",
    "outputId": "037dde54-5408-44d6-eb4e-27b1c29f9ffa"
   },
   "outputs": [
    {
     "data": {
      "text/plain": [
       "<Figure size 432x288 with 0 Axes>"
      ]
     },
     "execution_count": 9,
     "metadata": {},
     "output_type": "execute_result"
    },
    {
     "data": {
      "image/png": "[encoded data removed]",
      "text/plain": [
       "<Figure size 432x288 with 1 Axes>"
      ]
     },
     "metadata": {
      "needs_background": "light"
     },
     "output_type": "display_data"
    },
    {
     "data": {
      "image/png": "[encoded data removed]",
      "text/plain": [
       "<Figure size 432x288 with 1 Axes>"
      ]
     },
     "metadata": {
      "needs_background": "light"
     },
     "output_type": "display_data"
    },
    {
     "data": {
      "text/plain": [
       "<Figure size 432x288 with 0 Axes>"
      ]
     },
     "metadata": {},
     "output_type": "display_data"
    }
   ],
   "source": [
    "import matplotlib.image  as mpimg\n",
    "import matplotlib.pyplot as plt\n",
    "\n",
    "#-----------------------------------------------------------\n",
    "# Retrieve a list of list results on training and test data\n",
    "# sets for each training epoch\n",
    "#-----------------------------------------------------------\n",
    "mae=history.history['mae']\n",
    "loss=history.history['loss']\n",
    "\n",
    "epochs=range(len(loss)) # Get number of epochs\n",
    "\n",
    "#------------------------------------------------\n",
    "# Plot MAE and Loss\n",
    "#------------------------------------------------\n",
    "plt.plot(epochs, mae, 'r')\n",
    "plt.plot(epochs, loss, 'b')\n",
    "plt.title('MAE and Loss')\n",
    "plt.xlabel(\"Epochs\")\n",
    "plt.ylabel(\"Accuracy\")\n",
    "plt.legend([\"MAE\", \"Loss\"])\n",
    "\n",
    "plt.figure()\n",
    "\n",
    "epochs_zoom = epochs[200:]\n",
    "mae_zoom = mae[200:]\n",
    "loss_zoom = loss[200:]\n",
    "\n",
    "#------------------------------------------------\n",
    "# Plot Zoomed MAE and Loss\n",
    "#------------------------------------------------\n",
    "plt.plot(epochs_zoom, mae_zoom, 'r')\n",
    "plt.plot(epochs_zoom, loss_zoom, 'b')\n",
    "plt.title('MAE and Loss')\n",
    "plt.xlabel(\"Epochs\")\n",
    "plt.ylabel(\"Accuracy\")\n",
    "plt.legend([\"MAE\", \"Loss\"])\n",
    "\n",
    "plt.figure()"
   ]
  },
  {
   "cell_type": "code",
   "execution_count": 10,
   "metadata": {
    "colab": {
     "base_uri": "https://localhost:8080/",
     "height": 34
    },
    "colab_type": "code",
    "id": "3CGaYFxXNEAK",
    "outputId": "48f63882-aad9-4e7e-8000-5203a6b60854"
   },
   "outputs": [
    {
     "data": {
      "text/plain": [
       "<tensorflow.python.keras.callbacks.History at 0x7f8a6b5378d0>"
      ]
     },
     "execution_count": 10,
     "metadata": {},
     "output_type": "execute_result"
    }
   ],
   "source": [
    "tf.keras.backend.clear_session()\n",
    "dataset = windowed_dataset(x_train, window_size, batch_size, shuffle_buffer_size)\n",
    "\n",
    "model = tf.keras.models.Sequential([\n",
    "  tf.keras.layers.Lambda(lambda x: tf.expand_dims(x, axis=-1),\n",
    "                      input_shape=[None]),\n",
    "  tf.keras.layers.Bidirectional(tf.keras.layers.LSTM(32, return_sequences=True)),\n",
    "  tf.keras.layers.Bidirectional(tf.keras.layers.LSTM(32)),\n",
    "  tf.keras.layers.Dense(1),\n",
    "  tf.keras.layers.Lambda(lambda x: x * 100.0)\n",
    "])\n",
    "\n",
    "\n",
    "model.compile(loss=\"mse\", optimizer=tf.keras.optimizers.SGD(lr=1e-6, momentum=0.9))\n",
    "model.fit(dataset,epochs=100, verbose=0)"
   ]
  },
  {
   "cell_type": "code",
   "execution_count": 11,
   "metadata": {
    "colab": {
     "base_uri": "https://localhost:8080/",
     "height": 1000
    },
    "colab_type": "code",
    "id": "FJ3R8ysauz9e",
    "outputId": "5f1c28b3-0c45-4eab-c6f4-e3ce28819e70"
   },
   "outputs": [
    {
     "name": "stdout",
     "output_type": "stream",
     "text": [
      "Epoch 1/100\n",
      "31/31 [==============================] - 11s 363ms/step - loss: 637.0233\n",
      "Epoch 2/100\n",
      "31/31 [==============================] - 1s 41ms/step - loss: 122.3824\n",
      "Epoch 3/100\n",
      "31/31 [==============================] - 1s 44ms/step - loss: 93.5221\n",
      "Epoch 4/100\n",
      "31/31 [==============================] - 1s 44ms/step - loss: 89.9539\n",
      "Epoch 5/100\n",
      "31/31 [==============================] - 1s 48ms/step - loss: 83.9737\n",
      "Epoch 6/100\n",
      "31/31 [==============================] - 1s 46ms/step - loss: 75.3470\n",
      "Epoch 7/100\n",
      "31/31 [==============================] - 1s 45ms/step - loss: 68.6464\n",
      "Epoch 8/100\n",
      "31/31 [==============================] - 1s 48ms/step - loss: 64.6512\n",
      "Epoch 9/100\n",
      "31/31 [==============================] - 1s 48ms/step - loss: 66.7151\n",
      "Epoch 10/100\n",
      "31/31 [==============================] - 1s 47ms/step - loss: 65.4137\n",
      "Epoch 11/100\n",
      "31/31 [==============================] - 1s 48ms/step - loss: 63.6606\n",
      "Epoch 12/100\n",
      "31/31 [==============================] - 1s 47ms/step - loss: 58.3602\n",
      "Epoch 13/100\n",
      "31/31 [==============================] - 1s 47ms/step - loss: 56.1278\n",
      "Epoch 14/100\n",
      "31/31 [==============================] - 1s 47ms/step - loss: 63.2087\n",
      "Epoch 15/100\n",
      "31/31 [==============================] - 1s 48ms/step - loss: 55.1125\n",
      "Epoch 16/100\n",
      "31/31 [==============================] - 1s 46ms/step - loss: 52.6656\n",
      "Epoch 17/100\n",
      "31/31 [==============================] - 1s 48ms/step - loss: 62.0862\n",
      "Epoch 18/100\n",
      "31/31 [==============================] - 1s 45ms/step - loss: 59.2665\n",
      "Epoch 19/100\n",
      "31/31 [==============================] - 1s 46ms/step - loss: 57.2411\n",
      "Epoch 20/100\n",
      "31/31 [==============================] - 1s 45ms/step - loss: 58.1591\n",
      "Epoch 21/100\n",
      "31/31 [==============================] - 1s 41ms/step - loss: 52.9893\n",
      "Epoch 22/100\n",
      "31/31 [==============================] - 1s 43ms/step - loss: 48.8518\n",
      "Epoch 23/100\n",
      "31/31 [==============================] - 1s 45ms/step - loss: 55.9563\n",
      "Epoch 24/100\n",
      "31/31 [==============================] - 1s 45ms/step - loss: 49.5692\n",
      "Epoch 25/100\n",
      "31/31 [==============================] - 1s 45ms/step - loss: 58.1519\n",
      "Epoch 26/100\n",
      "31/31 [==============================] - 1s 45ms/step - loss: 49.3786\n",
      "Epoch 27/100\n",
      "31/31 [==============================] - 1s 47ms/step - loss: 54.8172\n",
      "Epoch 28/100\n",
      "31/31 [==============================] - 1s 47ms/step - loss: 53.7926\n",
      "Epoch 29/100\n",
      "31/31 [==============================] - 2s 50ms/step - loss: 54.7583\n",
      "Epoch 30/100\n",
      "31/31 [==============================] - 2s 49ms/step - loss: 48.5040\n",
      "Epoch 31/100\n",
      "31/31 [==============================] - 1s 48ms/step - loss: 49.9654\n",
      "Epoch 32/100\n",
      "31/31 [==============================] - 2s 51ms/step - loss: 52.8548\n",
      "Epoch 33/100\n",
      "31/31 [==============================] - 2s 53ms/step - loss: 57.4627\n",
      "Epoch 34/100\n",
      "31/31 [==============================] - 2s 51ms/step - loss: 48.4985\n",
      "Epoch 35/100\n",
      "31/31 [==============================] - 2s 50ms/step - loss: 49.9536\n",
      "Epoch 36/100\n",
      "31/31 [==============================] - 2s 51ms/step - loss: 48.0678\n",
      "Epoch 37/100\n",
      "31/31 [==============================] - 2s 52ms/step - loss: 47.0031\n",
      "Epoch 38/100\n",
      "31/31 [==============================] - 2s 50ms/step - loss: 51.8044\n",
      "Epoch 39/100\n",
      "31/31 [==============================] - 2s 51ms/step - loss: 47.8402\n",
      "Epoch 40/100\n",
      "31/31 [==============================] - 2s 49ms/step - loss: 47.0738\n",
      "Epoch 41/100\n",
      "31/31 [==============================] - 1s 48ms/step - loss: 49.3223\n",
      "Epoch 42/100\n",
      "31/31 [==============================] - 2s 49ms/step - loss: 46.2311\n",
      "Epoch 43/100\n",
      "31/31 [==============================] - 1s 48ms/step - loss: 50.1678\n",
      "Epoch 44/100\n",
      "31/31 [==============================] - 1s 46ms/step - loss: 49.0299\n",
      "Epoch 45/100\n",
      "31/31 [==============================] - 1s 45ms/step - loss: 51.4375\n",
      "Epoch 46/100\n",
      "31/31 [==============================] - 1s 45ms/step - loss: 48.7903\n",
      "Epoch 47/100\n",
      "31/31 [==============================] - 1s 43ms/step - loss: 51.9893\n",
      "Epoch 48/100\n",
      "31/31 [==============================] - 1s 46ms/step - loss: 50.1349\n",
      "Epoch 49/100\n",
      "31/31 [==============================] - 1s 46ms/step - loss: 45.4001\n",
      "Epoch 50/100\n",
      "31/31 [==============================] - 1s 47ms/step - loss: 45.3459\n",
      "Epoch 51/100\n",
      "31/31 [==============================] - 2s 50ms/step - loss: 45.9184\n",
      "Epoch 52/100\n",
      "31/31 [==============================] - 2s 52ms/step - loss: 48.6871\n",
      "Epoch 53/100\n",
      "31/31 [==============================] - 2s 55ms/step - loss: 50.2157\n",
      "Epoch 54/100\n",
      "31/31 [==============================] - 2s 58ms/step - loss: 50.3791\n",
      "Epoch 55/100\n",
      "31/31 [==============================] - 2s 58ms/step - loss: 44.5867\n",
      "Epoch 56/100\n",
      "31/31 [==============================] - 2s 60ms/step - loss: 46.2903\n",
      "Epoch 57/100\n",
      "31/31 [==============================] - 2s 61ms/step - loss: 46.9808\n",
      "Epoch 58/100\n",
      "31/31 [==============================] - 2s 62ms/step - loss: 46.0497\n",
      "Epoch 59/100\n",
      "31/31 [==============================] - 2s 67ms/step - loss: 45.0362\n",
      "Epoch 60/100\n",
      "31/31 [==============================] - 2s 66ms/step - loss: 45.3159\n",
      "Epoch 61/100\n",
      "31/31 [==============================] - 2s 63ms/step - loss: 46.7116\n",
      "Epoch 62/100\n",
      "31/31 [==============================] - 2s 56ms/step - loss: 46.7306\n",
      "Epoch 63/100\n",
      "31/31 [==============================] - 2s 50ms/step - loss: 47.1439\n",
      "Epoch 64/100\n",
      "31/31 [==============================] - 1s 47ms/step - loss: 45.2324\n",
      "Epoch 65/100\n",
      "31/31 [==============================] - 1s 45ms/step - loss: 45.5615\n",
      "Epoch 66/100\n",
      "31/31 [==============================] - 1s 44ms/step - loss: 44.5538\n",
      "Epoch 67/100\n",
      "31/31 [==============================] - 1s 43ms/step - loss: 43.8195\n",
      "Epoch 68/100\n",
      "31/31 [==============================] - 1s 43ms/step - loss: 44.7913\n",
      "Epoch 69/100\n",
      "31/31 [==============================] - 1s 43ms/step - loss: 49.0834\n",
      "Epoch 70/100\n",
      "31/31 [==============================] - 1s 42ms/step - loss: 49.2482\n",
      "Epoch 71/100\n",
      "31/31 [==============================] - 1s 41ms/step - loss: 48.2154\n",
      "Epoch 72/100\n",
      "31/31 [==============================] - 1s 42ms/step - loss: 43.9151\n",
      "Epoch 73/100\n",
      "31/31 [==============================] - 1s 45ms/step - loss: 44.9549\n",
      "Epoch 74/100\n",
      "31/31 [==============================] - 1s 44ms/step - loss: 44.6029\n",
      "Epoch 75/100\n",
      "31/31 [==============================] - 1s 47ms/step - loss: 44.2298\n",
      "Epoch 76/100\n",
      "31/31 [==============================] - 1s 47ms/step - loss: 43.6080\n",
      "Epoch 77/100\n",
      "31/31 [==============================] - 2s 50ms/step - loss: 45.3792\n",
      "Epoch 78/100\n",
      "31/31 [==============================] - 2s 53ms/step - loss: 45.6226\n",
      "Epoch 79/100\n",
      "31/31 [==============================] - 2s 58ms/step - loss: 44.8075\n",
      "Epoch 80/100\n",
      "31/31 [==============================] - 2s 61ms/step - loss: 44.7194\n",
      "Epoch 81/100\n",
      "31/31 [==============================] - 2s 57ms/step - loss: 51.3381\n",
      "Epoch 82/100\n",
      "31/31 [==============================] - 2s 62ms/step - loss: 52.6025\n",
      "Epoch 83/100\n",
      "31/31 [==============================] - 2s 57ms/step - loss: 45.2575\n",
      "Epoch 84/100\n",
      "31/31 [==============================] - 2s 56ms/step - loss: 45.2554\n",
      "Epoch 85/100\n",
      "31/31 [==============================] - 2s 52ms/step - loss: 46.0116\n",
      "Epoch 86/100\n",
      "31/31 [==============================] - 2s 54ms/step - loss: 45.1577\n",
      "Epoch 87/100\n",
      "31/31 [==============================] - 2s 55ms/step - loss: 43.5127\n",
      "Epoch 88/100\n",
      "31/31 [==============================] - 2s 53ms/step - loss: 51.4440\n",
      "Epoch 89/100\n",
      "31/31 [==============================] - 2s 55ms/step - loss: 46.2988\n",
      "Epoch 90/100\n",
      "31/31 [==============================] - 2s 53ms/step - loss: 49.2589\n",
      "Epoch 91/100\n",
      "31/31 [==============================] - 2s 52ms/step - loss: 45.1823\n",
      "Epoch 92/100\n",
      "31/31 [==============================] - 1s 48ms/step - loss: 52.0298\n",
      "Epoch 93/100\n",
      "31/31 [==============================] - 2s 51ms/step - loss: 44.1537\n",
      "Epoch 94/100\n",
      "31/31 [==============================] - 2s 53ms/step - loss: 41.8719\n",
      "Epoch 95/100\n",
      "31/31 [==============================] - 2s 54ms/step - loss: 46.0074\n",
      "Epoch 96/100\n",
      "31/31 [==============================] - 2s 54ms/step - loss: 44.7369\n",
      "Epoch 97/100\n",
      "31/31 [==============================] - 2s 55ms/step - loss: 44.7657\n",
      "Epoch 98/100\n",
      "31/31 [==============================] - 2s 52ms/step - loss: 44.1665\n",
      "Epoch 99/100\n"
     ]
    },
    {
     "name": "stdout",
     "output_type": "stream",
     "text": [
      "31/31 [==============================] - 2s 52ms/step - loss: 44.7782\n",
      "Epoch 100/100\n",
      "31/31 [==============================] - 2s 55ms/step - loss: 45.3298\n"
     ]
    },
    {
     "data": {
      "text/plain": [
       "<tensorflow.python.keras.callbacks.History at 0x7f8a5b74a210>"
      ]
     },
     "execution_count": 11,
     "metadata": {},
     "output_type": "execute_result"
    }
   ],
   "source": [
    "tf.keras.backend.clear_session()\n",
    "dataset = windowed_dataset(x_train, window_size, batch_size, shuffle_buffer_size)\n",
    "\n",
    "model = tf.keras.models.Sequential([\n",
    "  tf.keras.layers.Lambda(lambda x: tf.expand_dims(x, axis=-1),\n",
    "                      input_shape=[None]),\n",
    "  tf.keras.layers.Bidirectional(tf.keras.layers.LSTM(32, return_sequences=True)),\n",
    "  tf.keras.layers.Bidirectional(tf.keras.layers.LSTM(32, return_sequences=True)),\n",
    "  tf.keras.layers.Bidirectional(tf.keras.layers.LSTM(32)),\n",
    "  tf.keras.layers.Dense(1),\n",
    "  tf.keras.layers.Lambda(lambda x: x * 100.0)\n",
    "])\n",
    "\n",
    "\n",
    "model.compile(loss=\"mse\", optimizer=tf.keras.optimizers.SGD(lr=1e-6, momentum=0.9))\n",
    "model.fit(dataset,epochs=100)"
   ]
  }
 ],
 "metadata": {
  "accelerator": "GPU",
  "colab": {
   "collapsed_sections": [],
   "include_colab_link": true,
   "name": "Course_4_Week_3_Lesson_4_LSTM.ipynb",
   "provenance": [],
   "version": "0.3.2"
  },
  "kernelspec": {
   "display_name": "Python 3",
   "language": "python",
   "name": "python3"
  },
  "language_info": {
   "codemirror_mode": {
    "name": "ipython",
    "version": 3
   },
   "file_extension": ".py",
   "mimetype": "text/x-python",
   "name": "python",
   "nbconvert_exporter": "python",
   "pygments_lexer": "ipython3",
   "version": "3.7.4"
  }
 },
 "nbformat": 4,
 "nbformat_minor": 1
}
